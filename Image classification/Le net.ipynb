{
 "cells": [
  {
   "cell_type": "code",
   "execution_count": 1,
   "id": "48bc345c-73f2-47e5-bdb7-7123858d3574",
   "metadata": {},
   "outputs": [],
   "source": [
    "import pandas as pd\n",
    "import numpy as np\n",
    "import matplotlib.pyplot as plt\n",
    "import seaborn as sns"
   ]
  },
  {
   "cell_type": "code",
   "execution_count": 2,
   "id": "1128856e-60f6-4a73-95f9-e4bdd8fdc5be",
   "metadata": {},
   "outputs": [],
   "source": [
    "import pickle "
   ]
  },
  {
   "cell_type": "code",
   "execution_count": 3,
   "id": "2e2ca734-715e-49f5-82df-d89e3372dbfe",
   "metadata": {},
   "outputs": [],
   "source": [
    "with open(r\"C:\\Users\\Sangeeta\\Downloads\\P74-Project-5\\Project 5\\traffic-signs-data\\train.p\",mode='rb') as training_data:\n",
    "    train=pickle.load(training_data)"
   ]
  },
  {
   "cell_type": "code",
   "execution_count": 4,
   "id": "a02f8680-0713-4637-8a7c-a0acf5d617ec",
   "metadata": {},
   "outputs": [],
   "source": [
    "with open(r\"C:\\Users\\Sangeeta\\Downloads\\P74-Project-5\\Project 5\\traffic-signs-data\\valid.p\",mode='rb') as validation_data:\n",
    "    valid=pickle.load(validation_data)"
   ]
  },
  {
   "cell_type": "code",
   "execution_count": 5,
   "id": "02eabc71-1f51-456f-886d-a516e4e432ad",
   "metadata": {},
   "outputs": [],
   "source": [
    "with open(r\"C:\\Users\\Sangeeta\\Downloads\\P74-Project-5\\Project 5\\traffic-signs-data\\test.p\",mode='rb') as testing_data:\n",
    "    test=pickle.load(testing_data)"
   ]
  },
  {
   "cell_type": "code",
   "execution_count": 6,
   "id": "0eb114a4-fb1d-42c8-841f-cff0056c7c8a",
   "metadata": {},
   "outputs": [],
   "source": [
    "X_train,y_train=train['features'],train['labels']\n",
    "X_validation,y_validation=valid['features'],valid['labels']\n",
    "X_test,y_test=test['features'],test['labels']"
   ]
  },
  {
   "cell_type": "code",
   "execution_count": 7,
   "id": "6a490c5d-bf18-43dc-8df3-6fbe65e122e6",
   "metadata": {},
   "outputs": [],
   "source": [
    "#IMAGE EXPLORATION"
   ]
  },
  {
   "cell_type": "code",
   "execution_count": 8,
   "id": "87d4b824-2f5b-45b1-9c33-7b0d1d54f9a7",
   "metadata": {},
   "outputs": [
    {
     "data": {
      "text/plain": [
       "np.uint8(36)"
      ]
     },
     "execution_count": 8,
     "metadata": {},
     "output_type": "execute_result"
    },
    {
     "data": {
      "image/png": "[encoded data removed]",
      "text/plain": [
       "<Figure size 640x480 with 1 Axes>"
      ]
     },
     "metadata": {},
     "output_type": "display_data"
    }
   ],
   "source": [
    "i=1000\n",
    "plt.imshow(X_train[i])\n",
    "y_train[i]"
   ]
  },
  {
   "cell_type": "code",
   "execution_count": 9,
   "id": "b1bf3762-1f03-482f-b884-2bf3774368d8",
   "metadata": {},
   "outputs": [
    {
     "data": {
      "text/plain": [
       "np.uint8(17)"
      ]
     },
     "execution_count": 9,
     "metadata": {},
     "output_type": "execute_result"
    },
    {
     "data": {
      "image/png": "[encoded data removed]",
      "text/plain": [
       "<Figure size 640x480 with 1 Axes>"
      ]
     },
     "metadata": {},
     "output_type": "display_data"
    }
   ],
   "source": [
    "i=4000\n",
    "plt.imshow(X_validation[i])\n",
    "y_validation[i]"
   ]
  },
  {
   "cell_type": "code",
   "execution_count": 10,
   "id": "98d48efc-9acd-4691-b8e9-3886b5fb9ebc",
   "metadata": {},
   "outputs": [
    {
     "data": {
      "text/plain": [
       "(4410,)"
      ]
     },
     "execution_count": 10,
     "metadata": {},
     "output_type": "execute_result"
    }
   ],
   "source": [
    "y_validation.shape"
   ]
  },
  {
   "cell_type": "code",
   "execution_count": 11,
   "id": "67ed6c32-3aaf-4ff4-96e9-252fb1521832",
   "metadata": {},
   "outputs": [
    {
     "data": {
      "text/plain": [
       "(12630,)"
      ]
     },
     "execution_count": 11,
     "metadata": {},
     "output_type": "execute_result"
    }
   ],
   "source": [
    "y_test.shape"
   ]
  },
  {
   "cell_type": "code",
   "execution_count": 12,
   "id": "dcddcad2-873e-4840-b007-8efab0438c81",
   "metadata": {},
   "outputs": [],
   "source": [
    "#Data preparation:\n",
    "from sklearn.utils import shuffle\n",
    "X_train,y_train=shuffle(X_train,y_train)"
   ]
  },
  {
   "cell_type": "code",
   "execution_count": 22,
   "id": "25203edf-21a3-4702-ba46-0674dc2405d2",
   "metadata": {},
   "outputs": [],
   "source": [
    "#Red,Gray and BLue channels are there-convertion from coloured to gray scale\n",
    "x_train_gray=np.sum(X_train/3,axis=3,keepdims=True)\n",
    "x_test_gray=np.sum(X_test/3,axis=3,keepdims=True)\n",
    "X_validation_gray=np.sum(X_validation,axis=3,keepdims=True)"
   ]
  },
  {
   "cell_type": "code",
   "execution_count": 17,
   "id": "2b8f0d22-0870-4e97-838e-dd9a502bdd91",
   "metadata": {},
   "outputs": [
    {
     "data": {
      "text/plain": [
       "(34799, 32, 32, 1)"
      ]
     },
     "execution_count": 17,
     "metadata": {},
     "output_type": "execute_result"
    }
   ],
   "source": [
    "x_train_gray.shape"
   ]
  },
  {
   "cell_type": "code",
   "execution_count": 21,
   "id": "a831f200-127a-4ad2-bf48-3824dc76d9d9",
   "metadata": {},
   "outputs": [],
   "source": [
    "X_train_gray_norm=(x_train_gray-128)/128 #Normalised data from 0-1"
   ]
  },
  {
   "cell_type": "code",
   "execution_count": 20,
   "id": "6c7d5a17-6335-4327-90e2-9b2f78946d05",
   "metadata": {},
   "outputs": [
    {
     "data": {
      "text/plain": [
       "array([[[[-0.13020833],\n",
       "         [-0.23958333],\n",
       "         [-0.19010417],\n",
       "         ...,\n",
       "         [-0.2734375 ],\n",
       "         [-0.22135417],\n",
       "         [-0.2578125 ]],\n",
       "\n",
       "        [[-0.1640625 ],\n",
       "         [-0.2578125 ],\n",
       "         [-0.24739583],\n",
       "         ...,\n",
       "         [-0.27604167],\n",
       "         [-0.27083333],\n",
       "         [-0.33854167]],\n",
       "\n",
       "        [[-0.20833333],\n",
       "         [-0.26302083],\n",
       "         [-0.23697917],\n",
       "         ...,\n",
       "         [-0.29166667],\n",
       "         [-0.30208333],\n",
       "         [-0.36979167]],\n",
       "\n",
       "        ...,\n",
       "\n",
       "        [[-0.22135417],\n",
       "         [-0.26302083],\n",
       "         [-0.34375   ],\n",
       "         ...,\n",
       "         [-0.44270833],\n",
       "         [-0.40104167],\n",
       "         [-0.38541667]],\n",
       "\n",
       "        [[-0.09114583],\n",
       "         [-0.2421875 ],\n",
       "         [-0.34635417],\n",
       "         ...,\n",
       "         [-0.203125  ],\n",
       "         [-0.203125  ],\n",
       "         [-0.15885417]],\n",
       "\n",
       "        [[-0.0859375 ],\n",
       "         [-0.25260417],\n",
       "         [-0.31510417],\n",
       "         ...,\n",
       "         [ 0.15625   ],\n",
       "         [ 0.19010417],\n",
       "         [ 0.1953125 ]]],\n",
       "\n",
       "\n",
       "       [[[-0.19010417],\n",
       "         [-0.20833333],\n",
       "         [-0.29427083],\n",
       "         ...,\n",
       "         [-0.37239583],\n",
       "         [-0.41927083],\n",
       "         [-0.55989583]],\n",
       "\n",
       "        [[-0.27864583],\n",
       "         [-0.28125   ],\n",
       "         [-0.29947917],\n",
       "         ...,\n",
       "         [-0.453125  ],\n",
       "         [-0.38541667],\n",
       "         [-0.4921875 ]],\n",
       "\n",
       "        [[-0.33333333],\n",
       "         [-0.36458333],\n",
       "         [-0.3984375 ],\n",
       "         ...,\n",
       "         [-0.52083333],\n",
       "         [-0.51822917],\n",
       "         [-0.4609375 ]],\n",
       "\n",
       "        ...,\n",
       "\n",
       "        [[ 0.3828125 ],\n",
       "         [ 0.80208333],\n",
       "         [ 0.6796875 ],\n",
       "         ...,\n",
       "         [-0.0703125 ],\n",
       "         [-0.39322917],\n",
       "         [-0.421875  ]],\n",
       "\n",
       "        [[ 0.39322917],\n",
       "         [ 0.79947917],\n",
       "         [ 0.4921875 ],\n",
       "         ...,\n",
       "         [-0.01041667],\n",
       "         [-0.3828125 ],\n",
       "         [-0.43229167]],\n",
       "\n",
       "        [[ 0.38541667],\n",
       "         [ 0.8359375 ],\n",
       "         [ 0.578125  ],\n",
       "         ...,\n",
       "         [ 0.13541667],\n",
       "         [-0.23958333],\n",
       "         [-0.3203125 ]]],\n",
       "\n",
       "\n",
       "       [[[-0.22135417],\n",
       "         [-0.21875   ],\n",
       "         [-0.203125  ],\n",
       "         ...,\n",
       "         [-0.13020833],\n",
       "         [-0.16927083],\n",
       "         [-0.19270833]],\n",
       "\n",
       "        [[-0.19270833],\n",
       "         [-0.1875    ],\n",
       "         [-0.1796875 ],\n",
       "         ...,\n",
       "         [ 0.015625  ],\n",
       "         [-0.0703125 ],\n",
       "         [-0.13541667]],\n",
       "\n",
       "        [[-0.18489583],\n",
       "         [-0.16927083],\n",
       "         [-0.19791667],\n",
       "         ...,\n",
       "         [-0.1015625 ],\n",
       "         [-0.20052083],\n",
       "         [-0.22916667]],\n",
       "\n",
       "        ...,\n",
       "\n",
       "        [[-0.40104167],\n",
       "         [-0.32552083],\n",
       "         [-0.296875  ],\n",
       "         ...,\n",
       "         [-0.3828125 ],\n",
       "         [-0.48177083],\n",
       "         [-0.56770833]],\n",
       "\n",
       "        [[-0.41145833],\n",
       "         [-0.31510417],\n",
       "         [-0.28125   ],\n",
       "         ...,\n",
       "         [-0.4375    ],\n",
       "         [-0.43489583],\n",
       "         [-0.50520833]],\n",
       "\n",
       "        [[-0.4375    ],\n",
       "         [-0.41666667],\n",
       "         [-0.40104167],\n",
       "         ...,\n",
       "         [-0.5234375 ],\n",
       "         [-0.46614583],\n",
       "         [-0.41927083]]],\n",
       "\n",
       "\n",
       "       ...,\n",
       "\n",
       "\n",
       "       [[[-0.45052083],\n",
       "         [-0.390625  ],\n",
       "         [-0.3671875 ],\n",
       "         ...,\n",
       "         [-0.78385417],\n",
       "         [-0.7734375 ],\n",
       "         [-0.66927083]],\n",
       "\n",
       "        [[-0.50260417],\n",
       "         [-0.54427083],\n",
       "         [-0.6015625 ],\n",
       "         ...,\n",
       "         [-0.77604167],\n",
       "         [-0.734375  ],\n",
       "         [-0.58854167]],\n",
       "\n",
       "        [[-0.5078125 ],\n",
       "         [-0.53125   ],\n",
       "         [-0.625     ],\n",
       "         ...,\n",
       "         [-0.7578125 ],\n",
       "         [-0.70833333],\n",
       "         [-0.578125  ]],\n",
       "\n",
       "        ...,\n",
       "\n",
       "        [[-0.77083333],\n",
       "         [-0.765625  ],\n",
       "         [-0.76041667],\n",
       "         ...,\n",
       "         [-0.6875    ],\n",
       "         [-0.64583333],\n",
       "         [-0.58072917]],\n",
       "\n",
       "        [[-0.765625  ],\n",
       "         [-0.76041667],\n",
       "         [-0.765625  ],\n",
       "         ...,\n",
       "         [-0.69791667],\n",
       "         [-0.70052083],\n",
       "         [-0.60416667]],\n",
       "\n",
       "        [[-0.76302083],\n",
       "         [-0.77083333],\n",
       "         [-0.77083333],\n",
       "         ...,\n",
       "         [-0.69270833],\n",
       "         [-0.69791667],\n",
       "         [-0.6171875 ]]],\n",
       "\n",
       "\n",
       "       [[[-0.89322917],\n",
       "         [-0.89322917],\n",
       "         [-0.90104167],\n",
       "         ...,\n",
       "         [-0.90364583],\n",
       "         [-0.9140625 ],\n",
       "         [-0.91145833]],\n",
       "\n",
       "        [[-0.88802083],\n",
       "         [-0.89322917],\n",
       "         [-0.89583333],\n",
       "         ...,\n",
       "         [-0.90625   ],\n",
       "         [-0.90885417],\n",
       "         [-0.90364583]],\n",
       "\n",
       "        [[-0.90885417],\n",
       "         [-0.90625   ],\n",
       "         [-0.89322917],\n",
       "         ...,\n",
       "         [-0.90625   ],\n",
       "         [-0.91145833],\n",
       "         [-0.90364583]],\n",
       "\n",
       "        ...,\n",
       "\n",
       "        [[-0.8984375 ],\n",
       "         [-0.89583333],\n",
       "         [-0.89583333],\n",
       "         ...,\n",
       "         [-0.88802083],\n",
       "         [-0.8984375 ],\n",
       "         [-0.890625  ]],\n",
       "\n",
       "        [[-0.90625   ],\n",
       "         [-0.90364583],\n",
       "         [-0.89322917],\n",
       "         ...,\n",
       "         [-0.88541667],\n",
       "         [-0.88802083],\n",
       "         [-0.88020833]],\n",
       "\n",
       "        [[-0.8984375 ],\n",
       "         [-0.90104167],\n",
       "         [-0.89322917],\n",
       "         ...,\n",
       "         [-0.86979167],\n",
       "         [-0.875     ],\n",
       "         [-0.87239583]]],\n",
       "\n",
       "\n",
       "       [[[-0.72135417],\n",
       "         [-0.70572917],\n",
       "         [-0.69010417],\n",
       "         ...,\n",
       "         [-0.74739583],\n",
       "         [-0.76041667],\n",
       "         [-0.76302083]],\n",
       "\n",
       "        [[-0.71614583],\n",
       "         [-0.65104167],\n",
       "         [-0.58072917],\n",
       "         ...,\n",
       "         [-0.76302083],\n",
       "         [-0.7734375 ],\n",
       "         [-0.78125   ]],\n",
       "\n",
       "        [[-0.69791667],\n",
       "         [-0.578125  ],\n",
       "         [-0.51041667],\n",
       "         ...,\n",
       "         [-0.73697917],\n",
       "         [-0.75520833],\n",
       "         [-0.78385417]],\n",
       "\n",
       "        ...,\n",
       "\n",
       "        [[-0.77083333],\n",
       "         [-0.77083333],\n",
       "         [-0.7578125 ],\n",
       "         ...,\n",
       "         [-0.75260417],\n",
       "         [-0.79166667],\n",
       "         [-0.79427083]],\n",
       "\n",
       "        [[-0.76822917],\n",
       "         [-0.81770833],\n",
       "         [-0.7890625 ],\n",
       "         ...,\n",
       "         [-0.8125    ],\n",
       "         [-0.83333333],\n",
       "         [-0.828125  ]],\n",
       "\n",
       "        [[-0.77864583],\n",
       "         [-0.82291667],\n",
       "         [-0.796875  ],\n",
       "         ...,\n",
       "         [-0.82552083],\n",
       "         [-0.84375   ],\n",
       "         [-0.828125  ]]]])"
      ]
     },
     "execution_count": 20,
     "metadata": {},
     "output_type": "execute_result"
    }
   ],
   "source": [
    "X_train_gray_norm"
   ]
  },
  {
   "cell_type": "code",
   "execution_count": 25,
   "id": "9d4fb2b8-2901-4388-86a8-68f70ef52524",
   "metadata": {},
   "outputs": [],
   "source": [
    "X_test_gray_norm=(x_test_gray-128)/128 \n",
    "X_validation_gray_norm=(X_validation_gray-128)/128 "
   ]
  },
  {
   "cell_type": "code",
   "execution_count": 28,
   "id": "04d0f883-d0ed-4428-b8cb-776225044e9a",
   "metadata": {},
   "outputs": [
    {
     "data": {
      "text/plain": [
       "<Figure size 640x480 with 0 Axes>"
      ]
     },
     "execution_count": 28,
     "metadata": {},
     "output_type": "execute_result"
    },
    {
     "data": {
      "image/png": "[encoded data removed]",
      "text/plain": [
       "<Figure size 640x480 with 1 Axes>"
      ]
     },
     "metadata": {},
     "output_type": "display_data"
    },
    {
     "data": {
      "image/png": "[encoded data removed]",
      "text/plain": [
       "<Figure size 640x480 with 1 Axes>"
      ]
     },
     "metadata": {},
     "output_type": "display_data"
    },
    {
     "data": {
      "text/plain": [
       "<Figure size 640x480 with 0 Axes>"
      ]
     },
     "metadata": {},
     "output_type": "display_data"
    }
   ],
   "source": [
    "i=610\n",
    "plt.imshow(x_train_gray[i].squeeze(),cmap='gray')\n",
    "plt.figure()\n",
    "plt.imshow(X_train[i].squeeze(),cmap='gray')\n",
    "plt.figure()"
   ]
  },
  {
   "cell_type": "code",
   "execution_count": 32,
   "id": "27aa5fc2-761b-4e32-beb4-bd1387c4fa42",
   "metadata": {},
   "outputs": [
    {
     "data": {
      "text/plain": [
       "<Figure size 640x480 with 0 Axes>"
      ]
     },
     "execution_count": 32,
     "metadata": {},
     "output_type": "execute_result"
    },
    {
     "data": {
      "image/png": "[encoded data removed]",
      "text/plain": [
       "<Figure size 640x480 with 1 Axes>"
      ]
     },
     "metadata": {},
     "output_type": "display_data"
    },
    {
     "data": {
      "text/plain": [
       "<Figure size 640x480 with 0 Axes>"
      ]
     },
     "metadata": {},
     "output_type": "display_data"
    }
   ],
   "source": [
    "plt.imshow(X_train_gray_norm[i].squeeze(),cmap='gray')\n",
    "plt.figure()\n",
    "#Squeeze command will remove the 1 dimensional aspect of it, and then the cmap-ensures the colourscale is grey"
   ]
  },
  {
   "cell_type": "code",
   "execution_count": 33,
   "id": "f52e9058-c680-48e1-8bc5-91c91a40a7ee",
   "metadata": {},
   "outputs": [],
   "source": [
    "#MODEL BUILDING "
   ]
  },
  {
   "cell_type": "code",
   "execution_count": 36,
   "id": "40e6715a-361c-45c7-95fd-bd41a11ea5cc",
   "metadata": {},
   "outputs": [],
   "source": [
    "from keras.models import Sequential"
   ]
  },
  {
   "cell_type": "code",
   "execution_count": 37,
   "id": "e1a04155-5c8c-4e6e-8e8e-86f560beef99",
   "metadata": {},
   "outputs": [],
   "source": [
    "from keras.layers import MaxPooling2D,AveragePooling2D,Conv2D,Dense,Flatten,Dropout\n",
    "from keras.optimizers import Adam\n"
   ]
  },
  {
   "cell_type": "code",
   "execution_count": 45,
   "id": "05f2d7dc-6073-4cdb-bb15-158489b56228",
   "metadata": {},
   "outputs": [],
   "source": [
    "cnn_model=Sequential()\n",
    "cnn_model.add(Conv2D(filters=6,kernel_size=(5,5),activation='relu',input_shape=(32,32,1)))\n",
    "cnn_model.add(AveragePooling2D(pool_size=(2,2),strides=(2,2),padding='valid'))\n",
    "cnn_model.add(Conv2D(filters=16,kernel_size=(5,5),activation='relu'))\n",
    "cnn_model.add(AveragePooling2D(pool_size=(2,2),strides=(2,2),padding='valid'))\n",
    "cnn_model.add(Flatten())\n",
    "cnn_model.add(Dense(units=120,activation='relu'))\n",
    "cnn_model.add(Dense(units=84,activation='relu'))\n",
    "cnn_model.add(Dense(units=43,activation='softmax'))\n",
    "              "
   ]
  },
  {
   "cell_type": "code",
   "execution_count": 51,
   "id": "0e6d7b0f-45bf-4947-99ca-622a8701d209",
   "metadata": {},
   "outputs": [],
   "source": [
    "cnn_model.compile(optimizer=Adam(learning_rate=0.001),loss='sparse_categorical_crossentropy',metrics=['accuracy'])"
   ]
  },
  {
   "cell_type": "code",
   "execution_count": 52,
   "id": "8fab1522-3972-4b6a-8f8b-4035e12a60fe",
   "metadata": {},
   "outputs": [
    {
     "name": "stdout",
     "output_type": "stream",
     "text": [
      "Epoch 1/5\n",
      "\u001b[1m70/70\u001b[0m \u001b[32m━━━━━━━━━━━━━━━━━━━━\u001b[0m\u001b[37m\u001b[0m \u001b[1m9s\u001b[0m 92ms/step - accuracy: 0.1087 - loss: 3.4370 - val_accuracy: 0.0846 - val_loss: 275454738231721984.0000\n",
      "Epoch 2/5\n",
      "\u001b[1m70/70\u001b[0m \u001b[32m━━━━━━━━━━━━━━━━━━━━\u001b[0m\u001b[37m\u001b[0m \u001b[1m5s\u001b[0m 78ms/step - accuracy: 0.4798 - loss: 1.9260 - val_accuracy: 0.1243 - val_loss: 740844269006225408.0000\n",
      "Epoch 3/5\n",
      "\u001b[1m70/70\u001b[0m \u001b[32m━━━━━━━━━━━━━━━━━━━━\u001b[0m\u001b[37m\u001b[0m \u001b[1m6s\u001b[0m 84ms/step - accuracy: 0.7200 - loss: 1.0028 - val_accuracy: 0.1240 - val_loss: 1052472596194394112.0000\n",
      "Epoch 4/5\n",
      "\u001b[1m70/70\u001b[0m \u001b[32m━━━━━━━━━━━━━━━━━━━━\u001b[0m\u001b[37m\u001b[0m \u001b[1m10s\u001b[0m 82ms/step - accuracy: 0.8187 - loss: 0.6667 - val_accuracy: 0.1399 - val_loss: 1228761418644324352.0000\n",
      "Epoch 5/5\n",
      "\u001b[1m70/70\u001b[0m \u001b[32m━━━━━━━━━━━━━━━━━━━━\u001b[0m\u001b[37m\u001b[0m \u001b[1m10s\u001b[0m 77ms/step - accuracy: 0.8629 - loss: 0.5120 - val_accuracy: 0.1426 - val_loss: 1417536844895092736.0000\n"
     ]
    },
    {
     "data": {
      "text/plain": [
       "<keras.src.callbacks.history.History at 0x1dc9f00be00>"
      ]
     },
     "execution_count": 52,
     "metadata": {},
     "output_type": "execute_result"
    }
   ],
   "source": [
    "cnn_model.fit(X_train_gray_norm,y_train,batch_size=500,epochs=5,verbose=1,validation_data=(X_validation_gray_norm,y_validation))"
   ]
  },
  {
   "cell_type": "code",
   "execution_count": 53,
   "id": "e7ef910c-bd7c-4e29-ad10-bee3e9e55060",
   "metadata": {},
   "outputs": [],
   "source": [
    "#Getting an accuracy of 865 is impressive with just 2 convoluted layers"
   ]
  },
  {
   "cell_type": "code",
   "execution_count": null,
   "id": "d367b503-c5f1-4f20-83e3-1c627369412d",
   "metadata": {},
   "outputs": [],
   "source": []
  }
 ],
 "metadata": {
  "kernelspec": {
   "display_name": "Python (tensorflow_env)",
   "language": "python",
   "name": "tensorflow_env"
  },
  "language_info": {
   "codemirror_mode": {
    "name": "ipython",
    "version": 3
   },
   "file_extension": ".py",
   "mimetype": "text/x-python",
   "name": "python",
   "nbconvert_exporter": "python",
   "pygments_lexer": "ipython3",
   "version": "3.12.9"
  }
 },
 "nbformat": 4,
 "nbformat_minor": 5
}
