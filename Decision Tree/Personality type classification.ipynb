{
 "cells": [
  {
   "cell_type": "code",
   "execution_count": 1,
   "id": "1413f6bf-a6d8-4893-9275-28cf7eb5b1c6",
   "metadata": {},
   "outputs": [],
   "source": [
    "import numpy as np\n",
    "import pandas as pd\n",
    "import seaborn as sns\n",
    "import matplotlib.pyplot as plt"
   ]
  },
  {
   "cell_type": "code",
   "execution_count": 2,
   "id": "09009ebc-e20d-41d1-9365-332273f78895",
   "metadata": {},
   "outputs": [],
   "source": [
    "df=pd.read_csv(r\"C:\\Users\\Sangeeta\\Downloads\\data.csv\")"
   ]
  },
  {
   "cell_type": "code",
   "execution_count": 3,
   "id": "df01d37e-ca0b-4247-9685-87cefc5013fb",
   "metadata": {},
   "outputs": [
    {
     "data": {
      "text/html": [
       "<div>\n",
       "<style scoped>\n",
       "    .dataframe tbody tr th:only-of-type {\n",
       "        vertical-align: middle;\n",
       "    }\n",
       "\n",
       "    .dataframe tbody tr th {\n",
       "        vertical-align: top;\n",
       "    }\n",
       "\n",
       "    .dataframe thead th {\n",
       "        text-align: right;\n",
       "    }\n",
       "</style>\n",
       "<table border=\"1\" class=\"dataframe\">\n",
       "  <thead>\n",
       "    <tr style=\"text-align: right;\">\n",
       "      <th></th>\n",
       "      <th>Age</th>\n",
       "      <th>Gender</th>\n",
       "      <th>Education</th>\n",
       "      <th>Introversion Score</th>\n",
       "      <th>Sensing Score</th>\n",
       "      <th>Thinking Score</th>\n",
       "      <th>Judging Score</th>\n",
       "      <th>Interest</th>\n",
       "      <th>Personality</th>\n",
       "    </tr>\n",
       "  </thead>\n",
       "  <tbody>\n",
       "    <tr>\n",
       "      <th>0</th>\n",
       "      <td>21.0</td>\n",
       "      <td>Female</td>\n",
       "      <td>1</td>\n",
       "      <td>5.89208</td>\n",
       "      <td>2.144395</td>\n",
       "      <td>7.32363</td>\n",
       "      <td>5.462224</td>\n",
       "      <td>Arts</td>\n",
       "      <td>ENTP</td>\n",
       "    </tr>\n",
       "    <tr>\n",
       "      <th>1</th>\n",
       "      <td>24.0</td>\n",
       "      <td>Female</td>\n",
       "      <td>1</td>\n",
       "      <td>2.48366</td>\n",
       "      <td>3.206188</td>\n",
       "      <td>8.06876</td>\n",
       "      <td>3.765012</td>\n",
       "      <td>Unknown</td>\n",
       "      <td>INTP</td>\n",
       "    </tr>\n",
       "    <tr>\n",
       "      <th>2</th>\n",
       "      <td>26.0</td>\n",
       "      <td>Female</td>\n",
       "      <td>1</td>\n",
       "      <td>7.02910</td>\n",
       "      <td>6.469302</td>\n",
       "      <td>4.16472</td>\n",
       "      <td>5.454442</td>\n",
       "      <td>Others</td>\n",
       "      <td>ESFP</td>\n",
       "    </tr>\n",
       "    <tr>\n",
       "      <th>3</th>\n",
       "      <td>30.0</td>\n",
       "      <td>Male</td>\n",
       "      <td>0</td>\n",
       "      <td>5.46525</td>\n",
       "      <td>4.179244</td>\n",
       "      <td>2.82487</td>\n",
       "      <td>5.080477</td>\n",
       "      <td>Sports</td>\n",
       "      <td>ENFJ</td>\n",
       "    </tr>\n",
       "    <tr>\n",
       "      <th>4</th>\n",
       "      <td>31.0</td>\n",
       "      <td>Female</td>\n",
       "      <td>0</td>\n",
       "      <td>3.59804</td>\n",
       "      <td>6.189259</td>\n",
       "      <td>5.31347</td>\n",
       "      <td>3.677984</td>\n",
       "      <td>Others</td>\n",
       "      <td>ISFP</td>\n",
       "    </tr>\n",
       "    <tr>\n",
       "      <th>...</th>\n",
       "      <td>...</td>\n",
       "      <td>...</td>\n",
       "      <td>...</td>\n",
       "      <td>...</td>\n",
       "      <td>...</td>\n",
       "      <td>...</td>\n",
       "      <td>...</td>\n",
       "      <td>...</td>\n",
       "      <td>...</td>\n",
       "    </tr>\n",
       "    <tr>\n",
       "      <th>43739</th>\n",
       "      <td>26.0</td>\n",
       "      <td>Male</td>\n",
       "      <td>1</td>\n",
       "      <td>8.88656</td>\n",
       "      <td>5.118399</td>\n",
       "      <td>8.48784</td>\n",
       "      <td>5.331942</td>\n",
       "      <td>Arts</td>\n",
       "      <td>ENTP</td>\n",
       "    </tr>\n",
       "    <tr>\n",
       "      <th>43740</th>\n",
       "      <td>29.0</td>\n",
       "      <td>Male</td>\n",
       "      <td>0</td>\n",
       "      <td>2.71470</td>\n",
       "      <td>6.851956</td>\n",
       "      <td>0.25519</td>\n",
       "      <td>3.623678</td>\n",
       "      <td>Unknown</td>\n",
       "      <td>ISFP</td>\n",
       "    </tr>\n",
       "    <tr>\n",
       "      <th>43741</th>\n",
       "      <td>25.0</td>\n",
       "      <td>Female</td>\n",
       "      <td>0</td>\n",
       "      <td>2.00982</td>\n",
       "      <td>6.544036</td>\n",
       "      <td>6.63911</td>\n",
       "      <td>6.201555</td>\n",
       "      <td>Technology</td>\n",
       "      <td>ISTJ</td>\n",
       "    </tr>\n",
       "    <tr>\n",
       "      <th>43742</th>\n",
       "      <td>23.0</td>\n",
       "      <td>Male</td>\n",
       "      <td>0</td>\n",
       "      <td>7.23553</td>\n",
       "      <td>4.876780</td>\n",
       "      <td>2.41671</td>\n",
       "      <td>4.654016</td>\n",
       "      <td>Arts</td>\n",
       "      <td>ENFP</td>\n",
       "    </tr>\n",
       "    <tr>\n",
       "      <th>43743</th>\n",
       "      <td>21.0</td>\n",
       "      <td>Male</td>\n",
       "      <td>0</td>\n",
       "      <td>1.88310</td>\n",
       "      <td>4.055642</td>\n",
       "      <td>2.25678</td>\n",
       "      <td>5.976738</td>\n",
       "      <td>Unknown</td>\n",
       "      <td>INFP</td>\n",
       "    </tr>\n",
       "  </tbody>\n",
       "</table>\n",
       "<p>43744 rows × 9 columns</p>\n",
       "</div>"
      ],
      "text/plain": [
       "        Age  Gender  Education  Introversion Score  Sensing Score  \\\n",
       "0      21.0  Female          1             5.89208       2.144395   \n",
       "1      24.0  Female          1             2.48366       3.206188   \n",
       "2      26.0  Female          1             7.02910       6.469302   \n",
       "3      30.0    Male          0             5.46525       4.179244   \n",
       "4      31.0  Female          0             3.59804       6.189259   \n",
       "...     ...     ...        ...                 ...            ...   \n",
       "43739  26.0    Male          1             8.88656       5.118399   \n",
       "43740  29.0    Male          0             2.71470       6.851956   \n",
       "43741  25.0  Female          0             2.00982       6.544036   \n",
       "43742  23.0    Male          0             7.23553       4.876780   \n",
       "43743  21.0    Male          0             1.88310       4.055642   \n",
       "\n",
       "       Thinking Score  Judging Score    Interest Personality  \n",
       "0             7.32363       5.462224        Arts        ENTP  \n",
       "1             8.06876       3.765012     Unknown        INTP  \n",
       "2             4.16472       5.454442      Others        ESFP  \n",
       "3             2.82487       5.080477      Sports        ENFJ  \n",
       "4             5.31347       3.677984      Others        ISFP  \n",
       "...               ...            ...         ...         ...  \n",
       "43739         8.48784       5.331942        Arts        ENTP  \n",
       "43740         0.25519       3.623678     Unknown        ISFP  \n",
       "43741         6.63911       6.201555  Technology        ISTJ  \n",
       "43742         2.41671       4.654016        Arts        ENFP  \n",
       "43743         2.25678       5.976738     Unknown        INFP  \n",
       "\n",
       "[43744 rows x 9 columns]"
      ]
     },
     "execution_count": 3,
     "metadata": {},
     "output_type": "execute_result"
    }
   ],
   "source": [
    "df"
   ]
  },
  {
   "cell_type": "code",
   "execution_count": 4,
   "id": "799151f1-1e81-4935-b5cf-7fa94aa96997",
   "metadata": {},
   "outputs": [
    {
     "data": {
      "text/plain": [
       "array(['Arts', 'Unknown', 'Others', 'Sports', 'Technology'], dtype=object)"
      ]
     },
     "execution_count": 4,
     "metadata": {},
     "output_type": "execute_result"
    }
   ],
   "source": [
    "df.Interest.unique()"
   ]
  },
  {
   "cell_type": "code",
   "execution_count": 5,
   "id": "b8d6e266-003b-419f-ab10-6a705d378e7d",
   "metadata": {},
   "outputs": [
    {
     "data": {
      "text/plain": [
       "Age                   0\n",
       "Gender                0\n",
       "Education             0\n",
       "Introversion Score    0\n",
       "Sensing Score         0\n",
       "Thinking Score        0\n",
       "Judging Score         0\n",
       "Interest              0\n",
       "Personality           0\n",
       "dtype: int64"
      ]
     },
     "execution_count": 5,
     "metadata": {},
     "output_type": "execute_result"
    }
   ],
   "source": [
    "df.isnull().sum()"
   ]
  },
  {
   "cell_type": "code",
   "execution_count": 6,
   "id": "fc6be867-458d-4c37-904e-a806ee726f9a",
   "metadata": {},
   "outputs": [
    {
     "data": {
      "text/plain": [
       "False    42716\n",
       "True      1028\n",
       "Name: count, dtype: int64"
      ]
     },
     "execution_count": 6,
     "metadata": {},
     "output_type": "execute_result"
    }
   ],
   "source": [
    "df.duplicated().value_counts()"
   ]
  },
  {
   "cell_type": "code",
   "execution_count": 11,
   "id": "69a69c67-0c9e-442b-b4f0-6a5e84984a9a",
   "metadata": {},
   "outputs": [],
   "source": [
    "df=df.drop_duplicates()"
   ]
  },
  {
   "cell_type": "code",
   "execution_count": 12,
   "id": "fe7c04ac-7cad-4b3c-88f1-94aae168343a",
   "metadata": {},
   "outputs": [
    {
     "data": {
      "text/plain": [
       "False    42716\n",
       "Name: count, dtype: int64"
      ]
     },
     "execution_count": 12,
     "metadata": {},
     "output_type": "execute_result"
    }
   ],
   "source": [
    "df.duplicated().value_counts()"
   ]
  },
  {
   "cell_type": "code",
   "execution_count": 13,
   "id": "eb676002-b400-4a11-879c-daa58800b7d1",
   "metadata": {},
   "outputs": [
    {
     "data": {
      "text/plain": [
       "Index(['Age', 'Gender', 'Education', 'Introversion Score', 'Sensing Score',\n",
       "       'Thinking Score', 'Judging Score', 'Interest', 'Personality'],\n",
       "      dtype='object')"
      ]
     },
     "execution_count": 13,
     "metadata": {},
     "output_type": "execute_result"
    }
   ],
   "source": [
    "df.columns"
   ]
  },
  {
   "cell_type": "code",
   "execution_count": 15,
   "id": "8a33e68e-48b0-4360-acbd-b270dd8b16af",
   "metadata": {},
   "outputs": [],
   "source": [
    "cat_cols=['Gender', 'Education','Interest','Personality']"
   ]
  },
  {
   "cell_type": "code",
   "execution_count": 17,
   "id": "281ec3ed-7560-4928-a343-a15afb2cd257",
   "metadata": {},
   "outputs": [],
   "source": [
    "num_cols=[]\n",
    "for i in df.columns.tolist():\n",
    "    if i not in cat_cols:\n",
    "        num_cols.append(i)"
   ]
  },
  {
   "cell_type": "code",
   "execution_count": 19,
   "id": "6fdf75de-87cc-4cca-bb98-94ea36e1dbfe",
   "metadata": {},
   "outputs": [
    {
     "data": {
      "text/plain": [
       "['Age',\n",
       " 'Introversion Score',\n",
       " 'Sensing Score',\n",
       " 'Thinking Score',\n",
       " 'Judging Score']"
      ]
     },
     "execution_count": 19,
     "metadata": {},
     "output_type": "execute_result"
    }
   ],
   "source": [
    "num_cols"
   ]
  },
  {
   "cell_type": "code",
   "execution_count": 23,
   "id": "29f4616d-41a5-4e7b-998c-182a50404392",
   "metadata": {},
   "outputs": [
    {
     "data": {
      "image/png": "[encoded data removed]",
      "text/plain": [
       "<Figure size 640x480 with 1 Axes>"
      ]
     },
     "metadata": {},
     "output_type": "display_data"
    },
    {
     "data": {
      "image/png": "[encoded data removed]",
      "text/plain": [
       "<Figure size 640x480 with 1 Axes>"
      ]
     },
     "metadata": {},
     "output_type": "display_data"
    },
    {
     "data": {
      "image/png": "[encoded data removed]",
      "text/plain": [
       "<Figure size 640x480 with 1 Axes>"
      ]
     },
     "metadata": {},
     "output_type": "display_data"
    },
    {
     "data": {
      "image/png": "[encoded data removed]",
      "text/plain": [
       "<Figure size 640x480 with 1 Axes>"
      ]
     },
     "metadata": {},
     "output_type": "display_data"
    }
   ],
   "source": [
    "for i in cat_cols:\n",
    "    sns.countplot(data=df, x=df[i])\n",
    "    plt.show()"
   ]
  },
  {
   "cell_type": "code",
   "execution_count": 26,
   "id": "cbafe2b7-2107-4c34-bdc6-f8be8c76c1b3",
   "metadata": {},
   "outputs": [
    {
     "name": "stdout",
     "output_type": "stream",
     "text": [
      "Personality  Gender\n",
      "ENFJ         Male      0.551939\n",
      "             Female    0.448061\n",
      "ENFP         Male      0.555962\n",
      "             Female    0.444038\n",
      "ENTJ         Female    0.565106\n",
      "             Male      0.434894\n",
      "ENTP         Female    0.558888\n",
      "             Male      0.441112\n",
      "ESFJ         Male      0.566203\n",
      "             Female    0.433797\n",
      "ESFP         Male      0.547549\n",
      "             Female    0.452451\n",
      "ESTJ         Female    0.542429\n",
      "             Male      0.457571\n",
      "ESTP         Female    0.541331\n",
      "             Male      0.458669\n",
      "INFJ         Male      0.639722\n",
      "             Female    0.360278\n",
      "INFP         Male      0.657279\n",
      "             Female    0.342721\n",
      "INTJ         Male      0.542429\n",
      "             Female    0.457571\n",
      "INTP         Male      0.573153\n",
      "             Female    0.426847\n",
      "ISFJ         Male      0.648500\n",
      "             Female    0.351500\n",
      "ISFP         Male      0.651061\n",
      "             Female    0.348939\n",
      "ISTJ         Male      0.567995\n",
      "             Female    0.432005\n",
      "ISTP         Male      0.550841\n",
      "             Female    0.449159\n",
      "Name: proportion, dtype: float64\n",
      "------------------------------------------------------------------------------------------------------------------------\n",
      "Personality  Education\n",
      "ENFJ         0            0.999634\n",
      "             1            0.000366\n",
      "ENFP         0            0.546452\n",
      "             1            0.453548\n",
      "ENTJ         0            0.998537\n",
      "             1            0.001463\n",
      "ENTP         0            0.540966\n",
      "             1            0.459034\n",
      "ESFJ         0            0.999268\n",
      "             1            0.000732\n",
      "ESFP         0            0.550841\n",
      "             1            0.449159\n",
      "ESTJ         0            0.999634\n",
      "             1            0.000366\n",
      "ESTP         0            0.541697\n",
      "             1            0.458303\n",
      "INFJ         0            0.998903\n",
      "             1            0.001097\n",
      "INFP         0            0.539868\n",
      "             1            0.460132\n",
      "INTJ         0            0.999268\n",
      "             1            0.000732\n",
      "INTP         0            0.532187\n",
      "             1            0.467813\n",
      "ISFJ         0            0.998537\n",
      "             1            0.001463\n",
      "ISFP         0            0.540234\n",
      "             1            0.459766\n",
      "ISTJ         0            0.997655\n",
      "             1            0.002345\n",
      "ISTP         0            0.552304\n",
      "             1            0.447696\n",
      "Name: proportion, dtype: float64\n",
      "------------------------------------------------------------------------------------------------------------------------\n",
      "Personality  Interest  \n",
      "ENFJ         Unknown       0.328822\n",
      "             Sports        0.249817\n",
      "             Technology    0.144477\n",
      "             Arts          0.142282\n",
      "             Others        0.134601\n",
      "                             ...   \n",
      "ISTP         Unknown       0.373811\n",
      "             Arts          0.224945\n",
      "             Others        0.168617\n",
      "             Technology    0.143745\n",
      "             Sports        0.088881\n",
      "Name: proportion, Length: 80, dtype: float64\n",
      "------------------------------------------------------------------------------------------------------------------------\n",
      "Personality\n",
      "ENFJ    1.0\n",
      "ENFP    1.0\n",
      "ENTJ    1.0\n",
      "ENTP    1.0\n",
      "ESFJ    1.0\n",
      "ESFP    1.0\n",
      "ESTJ    1.0\n",
      "ESTP    1.0\n",
      "INFJ    1.0\n",
      "INFP    1.0\n",
      "INTJ    1.0\n",
      "INTP    1.0\n",
      "ISFJ    1.0\n",
      "ISFP    1.0\n",
      "ISTJ    1.0\n",
      "ISTP    1.0\n",
      "Name: proportion, dtype: float64\n",
      "------------------------------------------------------------------------------------------------------------------------\n"
     ]
    }
   ],
   "source": [
    "for i in cat_cols:\n",
    "    print(df.groupby('Personality')[i].value_counts(normalize=True))\n",
    "    print('----'*30)"
   ]
  },
  {
   "cell_type": "code",
   "execution_count": 27,
   "id": "4b2554e7-1c54-44c8-846a-9554fcbb8894",
   "metadata": {},
   "outputs": [],
   "source": [
    "#It is noticed that gender doesnt have a major influence on the personality type, and then education might have some influence on the personality, the field of interest definitely has an influence on the personality"
   ]
  },
  {
   "cell_type": "code",
   "execution_count": 29,
   "id": "10e6e309-6f06-4ce1-93bb-b75195a4170a",
   "metadata": {},
   "outputs": [
    {
     "data": {
      "text/html": [
       "<div>\n",
       "<style scoped>\n",
       "    .dataframe tbody tr th:only-of-type {\n",
       "        vertical-align: middle;\n",
       "    }\n",
       "\n",
       "    .dataframe tbody tr th {\n",
       "        vertical-align: top;\n",
       "    }\n",
       "\n",
       "    .dataframe thead th {\n",
       "        text-align: right;\n",
       "    }\n",
       "</style>\n",
       "<table border=\"1\" class=\"dataframe\">\n",
       "  <thead>\n",
       "    <tr style=\"text-align: right;\">\n",
       "      <th></th>\n",
       "      <th>Age</th>\n",
       "      <th>Introversion Score</th>\n",
       "      <th>Sensing Score</th>\n",
       "      <th>Thinking Score</th>\n",
       "      <th>Judging Score</th>\n",
       "    </tr>\n",
       "  </thead>\n",
       "  <tbody>\n",
       "    <tr>\n",
       "      <th>Age</th>\n",
       "      <td>1.000000</td>\n",
       "      <td>-0.002133</td>\n",
       "      <td>0.164142</td>\n",
       "      <td>-0.009099</td>\n",
       "      <td>0.000221</td>\n",
       "    </tr>\n",
       "    <tr>\n",
       "      <th>Introversion Score</th>\n",
       "      <td>-0.002133</td>\n",
       "      <td>1.000000</td>\n",
       "      <td>0.015696</td>\n",
       "      <td>0.010108</td>\n",
       "      <td>0.019273</td>\n",
       "    </tr>\n",
       "    <tr>\n",
       "      <th>Sensing Score</th>\n",
       "      <td>0.164142</td>\n",
       "      <td>0.015696</td>\n",
       "      <td>1.000000</td>\n",
       "      <td>-0.005853</td>\n",
       "      <td>-0.010664</td>\n",
       "    </tr>\n",
       "    <tr>\n",
       "      <th>Thinking Score</th>\n",
       "      <td>-0.009099</td>\n",
       "      <td>0.010108</td>\n",
       "      <td>-0.005853</td>\n",
       "      <td>1.000000</td>\n",
       "      <td>-0.013308</td>\n",
       "    </tr>\n",
       "    <tr>\n",
       "      <th>Judging Score</th>\n",
       "      <td>0.000221</td>\n",
       "      <td>0.019273</td>\n",
       "      <td>-0.010664</td>\n",
       "      <td>-0.013308</td>\n",
       "      <td>1.000000</td>\n",
       "    </tr>\n",
       "  </tbody>\n",
       "</table>\n",
       "</div>"
      ],
      "text/plain": [
       "                         Age  Introversion Score  Sensing Score  \\\n",
       "Age                 1.000000           -0.002133       0.164142   \n",
       "Introversion Score -0.002133            1.000000       0.015696   \n",
       "Sensing Score       0.164142            0.015696       1.000000   \n",
       "Thinking Score     -0.009099            0.010108      -0.005853   \n",
       "Judging Score       0.000221            0.019273      -0.010664   \n",
       "\n",
       "                    Thinking Score  Judging Score  \n",
       "Age                      -0.009099       0.000221  \n",
       "Introversion Score        0.010108       0.019273  \n",
       "Sensing Score            -0.005853      -0.010664  \n",
       "Thinking Score            1.000000      -0.013308  \n",
       "Judging Score            -0.013308       1.000000  "
      ]
     },
     "execution_count": 29,
     "metadata": {},
     "output_type": "execute_result"
    }
   ],
   "source": [
    "df[num_cols].corr()  #The multicollinearity doesnt exist as we can see"
   ]
  },
  {
   "cell_type": "code",
   "execution_count": 30,
   "id": "8361012e-6823-42ce-912c-6389dca43b49",
   "metadata": {},
   "outputs": [
    {
     "data": {
      "image/png": "[encoded data removed]",
      "text/plain": [
       "<Figure size 640x480 with 1 Axes>"
      ]
     },
     "metadata": {},
     "output_type": "display_data"
    },
    {
     "data": {
      "image/png": "[encoded data removed]",
      "text/plain": [
       "<Figure size 640x480 with 1 Axes>"
      ]
     },
     "metadata": {},
     "output_type": "display_data"
    },
    {
     "data": {
      "image/png": "[encoded data removed]",
      "text/plain": [
       "<Figure size 640x480 with 1 Axes>"
      ]
     },
     "metadata": {},
     "output_type": "display_data"
    },
    {
     "data": {
      "image/png": "[encoded data removed]",
      "text/plain": [
       "<Figure size 640x480 with 1 Axes>"
      ]
     },
     "metadata": {},
     "output_type": "display_data"
    },
    {
     "data": {
      "image/png": "[encoded data removed]",
      "text/plain": [
       "<Figure size 640x480 with 1 Axes>"
      ]
     },
     "metadata": {},
     "output_type": "display_data"
    }
   ],
   "source": [
    "for i in num_cols:\n",
    "    sns.boxplot(data=df,x=df[i])\n",
    "    plt.show()"
   ]
  },
  {
   "cell_type": "code",
   "execution_count": 31,
   "id": "b52823e3-19e8-4413-a698-386b7c3b24d0",
   "metadata": {},
   "outputs": [],
   "source": [
    "#It seems as though there are many outliers in the continuous dataset pool, so it is best to use decision tree"
   ]
  },
  {
   "cell_type": "code",
   "execution_count": 32,
   "id": "9a69dfa1-b6c5-4887-a0d0-b9bef4cbcf95",
   "metadata": {},
   "outputs": [],
   "source": [
    "X=df.drop(columns='Personality')\n",
    "y=df['Personality']"
   ]
  },
  {
   "cell_type": "code",
   "execution_count": 37,
   "id": "c8b61e93-1bcd-4ab4-895b-6449af6aaa74",
   "metadata": {},
   "outputs": [],
   "source": [
    "cat_cols='Gender', 'Education', 'Interest'"
   ]
  },
  {
   "cell_type": "code",
   "execution_count": 40,
   "id": "b053b0e6-8131-4c96-b28f-62dca64ff766",
   "metadata": {},
   "outputs": [],
   "source": [
    "X = pd.get_dummies(X, drop_first=True)"
   ]
  },
  {
   "cell_type": "code",
   "execution_count": 45,
   "id": "c9402b33-0a43-4d37-bb7b-aa72d4920d0d",
   "metadata": {},
   "outputs": [
    {
     "name": "stdout",
     "output_type": "stream",
     "text": [
      "Accuracy: 0.8565074906367042\n"
     ]
    }
   ],
   "source": [
    "from sklearn.tree import DecisionTreeClassifier\n",
    "from sklearn.model_selection import train_test_split\n",
    "from sklearn.metrics import accuracy_score\n",
    "\n",
    "X_train,X_test,y_train,y_test= train_test_split(X,y,test_size=0.2,random_state=42)\n",
    "\n",
    "model=DecisionTreeClassifier()\n",
    "model.fit(X_train,y_train)\n",
    "\n",
    "y_pred_test=model.predict(X_test)\n",
    "\n",
    "print(\"Accuracy:\", accuracy_score(y_test, y_pred_test))"
   ]
  },
  {
   "cell_type": "code",
   "execution_count": 47,
   "id": "c0134de8-d5bf-4791-b7b3-4d1a03c5d594",
   "metadata": {},
   "outputs": [
    {
     "name": "stdout",
     "output_type": "stream",
     "text": [
      "Accuracy: 1.0\n"
     ]
    }
   ],
   "source": [
    "y_pred_train=model.predict(X_train)\n",
    "print(\"Accuracy:\",accuracy_score(y_train,y_pred_train))"
   ]
  },
  {
   "cell_type": "code",
   "execution_count": null,
   "id": "ff59ef5e-056c-4c89-aa0b-7d08d9d191df",
   "metadata": {},
   "outputs": [],
   "source": []
  }
 ],
 "metadata": {
  "kernelspec": {
   "display_name": "Python (tensorflow_env)",
   "language": "python",
   "name": "tensorflow_env"
  },
  "language_info": {
   "codemirror_mode": {
    "name": "ipython",
    "version": 3
   },
   "file_extension": ".py",
   "mimetype": "text/x-python",
   "name": "python",
   "nbconvert_exporter": "python",
   "pygments_lexer": "ipython3",
   "version": "3.12.9"
  }
 },
 "nbformat": 4,
 "nbformat_minor": 5
}
